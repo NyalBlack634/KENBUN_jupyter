{
 "cells": [
  {
   "cell_type": "code",
   "execution_count": 1,
   "metadata": {},
   "outputs": [],
   "source": [
    "import sqlite3"
   ]
  },
  {
   "cell_type": "code",
   "execution_count": 2,
   "metadata": {},
   "outputs": [],
   "source": [
    "conn = sqlite3.connect('serach_index.db')\n",
    "cur = conn.cursor()"
   ]
  },
  {
   "cell_type": "code",
   "execution_count": 3,
   "metadata": {},
   "outputs": [
    {
     "data": {
      "text/plain": [
       "<sqlite3.Cursor at 0x26befb5e500>"
      ]
     },
     "execution_count": 3,
     "metadata": {},
     "output_type": "execute_result"
    }
   ],
   "source": [
    "cur.execute(\"select * from sqlite_master where type='table'\")"
   ]
  },
  {
   "cell_type": "code",
   "execution_count": 4,
   "metadata": {},
   "outputs": [
    {
     "data": {
      "text/plain": [
       "[('table',\n",
       "  'search_keywords',\n",
       "  'search_keywords',\n",
       "  2,\n",
       "  'CREATE TABLE search_keywords (keywords nchar(255), result_jsons, PRIMARY KEY (keywords))'),\n",
       " ('table',\n",
       "  'test_table',\n",
       "  'test_table',\n",
       "  4,\n",
       "  'CREATE TABLE test_table (keywords nchar(255), result_jsons, PRIMARY KEY (keywords))'),\n",
       " ('table',\n",
       "  'headline',\n",
       "  'headline',\n",
       "  6,\n",
       "  'CREATE TABLE headline (id integer, company, year, month, page, ocr_result, PRIMARY KEY (id))'),\n",
       " ('table',\n",
       "  'headline_paths',\n",
       "  'headline_paths',\n",
       "  37074,\n",
       "  'CREATE TABLE headline_paths (id integer, path, PRIMARY KEY (id))'),\n",
       " ('table',\n",
       "  'headline_size',\n",
       "  'headline_size',\n",
       "  37075,\n",
       "  'CREATE TABLE headline_size (id integer, width integer, height integer, PRIMARY KEY (id))'),\n",
       " ('table',\n",
       "  'ocr_text',\n",
       "  'ocr_text',\n",
       "  56691,\n",
       "  'CREATE TABLE ocr_text (id integer, headline_text, PRIMARY KEY (id))')]"
      ]
     },
     "execution_count": 4,
     "metadata": {},
     "output_type": "execute_result"
    }
   ],
   "source": [
    "cur.fetchall()"
   ]
  },
  {
   "cell_type": "code",
   "execution_count": 5,
   "metadata": {},
   "outputs": [],
   "source": [
    "id_ns = [str(i) for i in range(10)]"
   ]
  },
  {
   "cell_type": "code",
   "execution_count": 6,
   "metadata": {},
   "outputs": [],
   "source": [
    "sql = f\"\"\"\n",
    "    SELECT * FROM headline WHERE id in ({','.join(id_ns)})\n",
    "    \"\"\""
   ]
  },
  {
   "cell_type": "code",
   "execution_count": 7,
   "metadata": {},
   "outputs": [
    {
     "name": "stdout",
     "output_type": "stream",
     "text": [
      "Wall time: 1e+03 µs\n"
     ]
    },
    {
     "data": {
      "text/plain": [
       "<sqlite3.Cursor at 0x1488aadb500>"
      ]
     },
     "execution_count": 7,
     "metadata": {},
     "output_type": "execute_result"
    }
   ],
   "source": [
    "%%time\n",
    "cur.execute(sql)"
   ]
  },
  {
   "cell_type": "code",
   "execution_count": 8,
   "metadata": {},
   "outputs": [
    {
     "data": {
      "text/plain": [
       "[(0,\n",
       "  'こども大分新聞',\n",
       "  '1932年',\n",
       "  '10月',\n",
       "  '2-y-2_01',\n",
       "  'んぐみ\\n| day\\n三人組の隨一 ジ一堅い信念を貫いた。\\nBEATION FLOR ANATUREHOU\\n||||'),\n",
       " (1,\n",
       "  'こども大分新聞',\n",
       "  '1932年',\n",
       "  '10月',\n",
       "  '2-y-2_02',\n",
       "  '四戒を守って 健やか&伸びる 專科に運動に大いに養\\n日田男子校の巻'),\n",
       " (2, 'こども大分新聞', '1932年', '10月', '2-y-2_03', '少年 少 女 講 座 メートル法の起源'),\n",
       " (3,\n",
       "  'こども大分新聞',\n",
       "  '1932年',\n",
       "  '10月',\n",
       "  '2-y-9_01',\n",
       "  '10WH\\n||||||||RUNWHIEF\\n電器具と 附屬品のいろく\\n文明國の小國民は\\n是非知って置きませう'),\n",
       " (4, 'こども大分新聞', '1932年', '10月', '2-y-9_04', 'hateway.\\nいろいろ\\n電燈線の'),\n",
       " (5, 'こども大分新聞', '1932年', '10月', '2-y-4_01', '日本は殊に 霞が招はい それは気温を 氣壁の配置から」'),\n",
       " (6, 'こども大分新聞', '1932年', '10月', '2-a-8_01', 'の 發 明'),\n",
       " (7, 'こども大分新聞', '1932年', '10月', '2-a-8_03', 'でんわ\\nくった\\n電話機の組立'),\n",
       " (8, 'こども大分新聞', '1932年', '10月', '2-y-6_02', 'たましひ\\n1日本魂の權化\\n―肉弾三勇士の少年時代―\\nゆう'),\n",
       " (9, 'こども大分新聞', '1932年', '10月', '2-y-9_02', '照渡自在な。 スウィッチー\\nその變り種のいろく')]"
      ]
     },
     "execution_count": 8,
     "metadata": {},
     "output_type": "execute_result"
    }
   ],
   "source": [
    "cur.fetchall()"
   ]
  },
  {
   "cell_type": "code",
   "execution_count": 18,
   "metadata": {},
   "outputs": [
    {
     "data": {
      "text/plain": [
       "1000000"
      ]
     },
     "execution_count": 18,
     "metadata": {},
     "output_type": "execute_result"
    }
   ],
   "source": [
    "len(cur.fetchall())"
   ]
  },
  {
   "cell_type": "markdown",
   "metadata": {},
   "source": [
    "where in 使ったら普通に早いな<br>\n",
    "100万個でも1秒ほどか"
   ]
  },
  {
   "cell_type": "code",
   "execution_count": 13,
   "metadata": {},
   "outputs": [
    {
     "data": {
      "text/plain": [
       "(0,\n",
       " 'こども大分新聞',\n",
       " '1932年',\n",
       " '10月',\n",
       " '2-y-2_01',\n",
       " 'んぐみ\\n| day\\n三人組の隨一 ジ一堅い信念を貫いた。\\nBEATION FLOR ANATUREHOU\\n||||')"
      ]
     },
     "execution_count": 13,
     "metadata": {},
     "output_type": "execute_result"
    }
   ],
   "source": [
    "cur.fetchone()"
   ]
  },
  {
   "cell_type": "code",
   "execution_count": 14,
   "metadata": {},
   "outputs": [
    {
     "data": {
      "text/plain": [
       "(1,\n",
       " 'こども大分新聞',\n",
       " '1932年',\n",
       " '10月',\n",
       " '2-y-2_02',\n",
       " '四戒を守って 健やか&伸びる 專科に運動に大いに養\\n日田男子校の巻')"
      ]
     },
     "execution_count": 14,
     "metadata": {},
     "output_type": "execute_result"
    }
   ],
   "source": [
    "cur.fetchone()"
   ]
  },
  {
   "cell_type": "code",
   "execution_count": 15,
   "metadata": {},
   "outputs": [
    {
     "data": {
      "text/plain": [
       "[(2, 'こども大分新聞', '1932年', '10月', '2-y-2_03', '少年 少 女 講 座 メートル法の起源'),\n",
       " (3,\n",
       "  'こども大分新聞',\n",
       "  '1932年',\n",
       "  '10月',\n",
       "  '2-y-9_01',\n",
       "  '10WH\\n||||||||RUNWHIEF\\n電器具と 附屬品のいろく\\n文明國の小國民は\\n是非知って置きませう'),\n",
       " (4, 'こども大分新聞', '1932年', '10月', '2-y-9_04', 'hateway.\\nいろいろ\\n電燈線の'),\n",
       " (5, 'こども大分新聞', '1932年', '10月', '2-y-4_01', '日本は殊に 霞が招はい それは気温を 氣壁の配置から」'),\n",
       " (6, 'こども大分新聞', '1932年', '10月', '2-a-8_01', 'の 發 明'),\n",
       " (7, 'こども大分新聞', '1932年', '10月', '2-a-8_03', 'でんわ\\nくった\\n電話機の組立'),\n",
       " (8, 'こども大分新聞', '1932年', '10月', '2-y-6_02', 'たましひ\\n1日本魂の權化\\n―肉弾三勇士の少年時代―\\nゆう'),\n",
       " (9, 'こども大分新聞', '1932年', '10月', '2-y-9_02', '照渡自在な。 スウィッチー\\nその變り種のいろく')]"
      ]
     },
     "execution_count": 15,
     "metadata": {},
     "output_type": "execute_result"
    }
   ],
   "source": [
    "cur.fetchall()"
   ]
  },
  {
   "cell_type": "markdown",
   "metadata": {},
   "source": [
    "fetchoneは順番に、fetchallはまとめて"
   ]
  },
  {
   "cell_type": "code",
   "execution_count": null,
   "metadata": {},
   "outputs": [],
   "source": [
    "cur.execute(\"\"\"\n",
    "SELECT path, headline_text FROM ocr_text\n",
    "        INNER JOIN headline_paths ON ocr_text.id = headline_paths.id\n",
    "        WHERE headline_text LIKE '生産'\n",
    "\"\"\")"
   ]
  }
 ],
 "metadata": {
  "kernelspec": {
   "display_name": "Python 3",
   "language": "python",
   "name": "python3"
  },
  "language_info": {
   "codemirror_mode": {
    "name": "ipython",
    "version": 3
   },
   "file_extension": ".py",
   "mimetype": "text/x-python",
   "name": "python",
   "nbconvert_exporter": "python",
   "pygments_lexer": "ipython3",
   "version": "3.7.9"
  }
 },
 "nbformat": 4,
 "nbformat_minor": 5
}
