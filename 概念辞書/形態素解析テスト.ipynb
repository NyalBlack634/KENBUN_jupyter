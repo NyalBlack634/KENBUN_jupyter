{
 "cells": [
  {
   "cell_type": "code",
   "execution_count": 1,
   "id": "f38c7066",
   "metadata": {},
   "outputs": [],
   "source": [
    "text = '生產大分,顛落'"
   ]
  },
  {
   "cell_type": "code",
   "execution_count": 2,
   "id": "5a4955ed",
   "metadata": {},
   "outputs": [],
   "source": [
    "import MeCab as mc\n",
    "import mojimoji\n",
    "m = mc.Tagger(\"-Ochasen\")"
   ]
  },
  {
   "cell_type": "code",
   "execution_count": 3,
   "id": "cef602ee",
   "metadata": {},
   "outputs": [],
   "source": [
    "def mecab_tokenizer(text: str):\n",
    "    \"\"\"\n",
    "    テキストを分かち書きするメソッド\n",
    "    :param text: 分割したいテキスト\n",
    "    :return: 分割後のテキスト\n",
    "    \"\"\"\n",
    "\n",
    "    node = m.parseToNode(text)\n",
    "    word_list = list()\n",
    "    while node:\n",
    "        if node.surface != \"\":\n",
    "            res = node.feature.split(\",\")\n",
    "            word_type = res[0]\n",
    "            if word_type in ['名詞', \"動詞\", \"形容詞\", \"副詞\"]:  # 名詞, 動詞, 形容詞, 副詞のみを抽出\n",
    "                basic_word = res[6]\n",
    "                if basic_word != \"*\":\n",
    "                    word_list.append(basic_word)\n",
    "                else:\n",
    "                    word_list.append('[UNK]')  # 未知語の場合は[UNK]トークンに置き換え\n",
    "        node = node.next\n",
    "        if node is None:\n",
    "            break\n",
    "    return word_list"
   ]
  },
  {
   "cell_type": "code",
   "execution_count": 4,
   "id": "b563371f",
   "metadata": {},
   "outputs": [
    {
     "data": {
      "text/plain": [
       "['[UNK]', '大分', '[UNK]', '顛落']"
      ]
     },
     "execution_count": 4,
     "metadata": {},
     "output_type": "execute_result"
    }
   ],
   "source": [
    "mecab_tokenizer(text)"
   ]
  },
  {
   "cell_type": "code",
   "execution_count": null,
   "id": "64fc4d52",
   "metadata": {},
   "outputs": [],
   "source": []
  }
 ],
 "metadata": {
  "kernelspec": {
   "display_name": "Python 3 (ipykernel)",
   "language": "python",
   "name": "python3"
  },
  "language_info": {
   "codemirror_mode": {
    "name": "ipython",
    "version": 3
   },
   "file_extension": ".py",
   "mimetype": "text/x-python",
   "name": "python",
   "nbconvert_exporter": "python",
   "pygments_lexer": "ipython3",
   "version": "3.7.11"
  }
 },
 "nbformat": 4,
 "nbformat_minor": 5
}
