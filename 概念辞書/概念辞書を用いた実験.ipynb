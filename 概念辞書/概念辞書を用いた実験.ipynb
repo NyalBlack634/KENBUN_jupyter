{
 "cells": [
  {
   "cell_type": "markdown",
   "metadata": {},
   "source": [
    "# 新聞情報取得"
   ]
  },
  {
   "cell_type": "code",
   "execution_count": 1,
   "metadata": {},
   "outputs": [],
   "source": [
    "import os\n",
    "import openpyxl"
   ]
  },
  {
   "cell_type": "code",
   "execution_count": 2,
   "metadata": {},
   "outputs": [],
   "source": [
    "path_list = []\n",
    "\n",
    "for curDir, dirs, files in os.walk(\"C:\\\\Users\\\\kenbun\\\\PycharmProjects\\\\ProtKenbunTalk\\\\Excel_News\\\\新聞\"):\n",
    "    #         print('=='*20)\n",
    "    #         print('現在のフォルダ: ' + curDir)\n",
    "    #         print('内包するフォルダ: ', end='')\n",
    "    #         print(dirs)\n",
    "    #         print('内包するファイル: ', end='')\n",
    "    #         print(files)\n",
    "    path = curDir + '\\\\'\n",
    "    for file in files:\n",
    "        path += file\n",
    "        #             print('ファイルパス: ' + path)\n",
    "        path_list.append(path)\n",
    "        path = curDir + '\\\\'"
   ]
  },
  {
   "cell_type": "code",
   "execution_count": 3,
   "metadata": {},
   "outputs": [
    {
     "data": {
      "text/plain": [
       "['C:\\\\Users\\\\kenbun\\\\PycharmProjects\\\\ProtKenbunTalk\\\\Excel_News\\\\新聞\\\\見出し1.xlsx',\n",
       " 'C:\\\\Users\\\\kenbun\\\\PycharmProjects\\\\ProtKenbunTalk\\\\Excel_News\\\\新聞\\\\見出し2.xlsx']"
      ]
     },
     "execution_count": 3,
     "metadata": {},
     "output_type": "execute_result"
    }
   ],
   "source": [
    "path_list"
   ]
  },
  {
   "cell_type": "code",
   "execution_count": 4,
   "metadata": {},
   "outputs": [],
   "source": [
    "headlines = []  # 格納用辞書\n",
    "\n",
    "wb1 = openpyxl.load_workbook(path_list[0])\n",
    "sheet = wb1['シート1']\n",
    "# [社名、年、月、名前、見出し、ベクトル]\n",
    "headlines = [(row[0].value, row[1].value, row[2].value, row[3].value, row[4].value) for row in sheet.rows]\n",
    "\n",
    "wb2 = openpyxl.load_workbook(path_list[1])\n",
    "sheet = wb2['シート1']\n",
    "headlines2 = [(row[0].value, row[1].value, row[2].value, row[3].value, row[4].value) for row in sheet.rows]"
   ]
  },
  {
   "cell_type": "code",
   "execution_count": 5,
   "metadata": {},
   "outputs": [],
   "source": [
    "headlines += headlines2"
   ]
  },
  {
   "cell_type": "code",
   "execution_count": 6,
   "metadata": {
    "scrolled": true
   },
   "outputs": [
    {
     "data": {
      "text/plain": [
       "1253950"
      ]
     },
     "execution_count": 6,
     "metadata": {},
     "output_type": "execute_result"
    }
   ],
   "source": [
    "len(headlines)"
   ]
  },
  {
   "cell_type": "markdown",
   "metadata": {},
   "source": [
    "# 分かち書き用"
   ]
  },
  {
   "cell_type": "code",
   "execution_count": 7,
   "metadata": {},
   "outputs": [],
   "source": [
    "import MeCab as mc\n",
    "import mojimoji\n",
    "m = mc.Tagger(\"-Ochasen\")"
   ]
  },
  {
   "cell_type": "code",
   "execution_count": 8,
   "metadata": {},
   "outputs": [],
   "source": [
    "def mecab_tokenizer(text: str):\n",
    "    \"\"\"\n",
    "    テキストを分かち書きするメソッド\n",
    "    :param text: 分割したいテキスト\n",
    "    :return: 分割後のテキスト\n",
    "    \"\"\"\n",
    "\n",
    "    node = m.parseToNode(text)\n",
    "    word_list = list()\n",
    "    while node:\n",
    "        if node.surface != \"\":\n",
    "            res = node.feature.split(\",\")\n",
    "            word_type = res[0]\n",
    "            if word_type in ['名詞', \"動詞\", \"形容詞\", \"副詞\"]:  # 名詞, 動詞, 形容詞, 副詞のみを抽出\n",
    "                basic_word = res[6]\n",
    "                if basic_word != \"*\":\n",
    "                    word_list.append(basic_word)\n",
    "                else:\n",
    "                    word_list.append('[UNK]')  # 未知語の場合は[UNK]トークンに置き換え\n",
    "        node = node.next\n",
    "        if node is None:\n",
    "            break\n",
    "    return word_list"
   ]
  },
  {
   "cell_type": "markdown",
   "metadata": {},
   "source": [
    "# Wordnetを利用\n",
    "参考サイト: https://qiita.com/pocket_kyoto/items/f2382b9821d32624e6bc"
   ]
  },
  {
   "cell_type": "code",
   "execution_count": 9,
   "metadata": {},
   "outputs": [],
   "source": [
    "import sqlite3\n",
    "conn = sqlite3.connect(\"wnjpn.db\")"
   ]
  },
  {
   "cell_type": "code",
   "execution_count": 10,
   "metadata": {},
   "outputs": [],
   "source": [
    "class node:\n",
    "    def __init__(self, name, children=None):\n",
    "        self.name = name  # String\n",
    "        self.children = children  # List of Class node\n",
    "\n",
    "    # 結果表示用\n",
    "    def display(self, indent = 0):\n",
    "        if self.children != None:\n",
    "            print(' '*indent + self.name)\n",
    "            for c in self.children:\n",
    "                c.display(indent+1)\n",
    "        else:\n",
    "            print(' '*indent + self.name)"
   ]
  },
  {
   "cell_type": "code",
   "execution_count": 11,
   "metadata": {},
   "outputs": [
    {
     "name": "stdout",
     "output_type": "stream",
     "text": [
      "上位語に含まれる単語の数 ： 20008\n",
      "上位語に含まれる単語の中で下位語に含まれない単語の数 ： 346\n"
     ]
    }
   ],
   "source": [
    "# 上位-下位の関係にある概念の抽出\n",
    "hierarchy_dict = {}  # key:上位語(String), value:下位語(List of String)\n",
    "n_term_set = set()  # 下位語に含まれる単語集合\n",
    "\n",
    "cur = conn.execute(\"select synset1,synset2 from synlink where link='hypo'\")  # 上位語-下位語の関係にあるものを抽出\n",
    "for row in cur:\n",
    "    b_term = row[0]\n",
    "    n_term = row[1]\n",
    "\n",
    "    if b_term not in hierarchy_dict:\n",
    "        hierarchy_dict[b_term] = []\n",
    "\n",
    "    hierarchy_dict[b_term].append(n_term) \n",
    "    n_term_set.add(n_term)\n",
    "\n",
    "print(f\"上位語に含まれる単語の数 ： {len(hierarchy_dict)}\")\n",
    "\n",
    "top_concepts = list(set(hierarchy_dict.keys()) - n_term_set)\n",
    "print(f\"上位語に含まれる単語の中で下位語に含まれない単語の数 ： {len(top_concepts)}\")"
   ]
  },
  {
   "cell_type": "code",
   "execution_count": 12,
   "metadata": {},
   "outputs": [
    {
     "name": "stdout",
     "output_type": "stream",
     "text": [
      "07125096-n : expletive\n"
     ]
    }
   ],
   "source": [
    "# synset(概念)のIDから、概念の名称に変換する辞書の作成\n",
    "synset_name_dict = {}  # key:synsetのID, value:synsetの名称\n",
    "cur = conn.execute(\"select synset,name from synset\")\n",
    "for row in cur:\n",
    "    synset_name_dict[row[0]] = row[1]\n",
    "for k,v in synset_name_dict.items():\n",
    "    print(f\"{k} : {v}\")\n",
    "    break"
   ]
  },
  {
   "cell_type": "code",
   "execution_count": 13,
   "metadata": {},
   "outputs": [],
   "source": [
    "# 下位の語が未登録の場合、再帰的に呼ばれる関数\n",
    "def recrusive_register(term, synset_name_dict, hierarchy_dict, node_tree_dict):\n",
    "    for term in hierarchy_dict[term]:\n",
    "        if term not in node_tree_dict:\n",
    "            if term in hierarchy_dict:\n",
    "                recrusive_register(term, synset_name_dict, hierarchy_dict, node_tree_dict)\n",
    "                node_tree_dict[term] = node(synset_name_dict[term], [node_tree_dict[t] for t in hierarchy_dict[term]])\n",
    "            else:\n",
    "                node_tree_dict[term] = node(synset_name_dict[term])\n",
    "\n",
    "# データ投入\n",
    "node_tree_dict = {}\n",
    "for k in top_concepts:  # 最上位の語を起点として木構造を作成\n",
    "    recrusive_register(k, synset_name_dict, hierarchy_dict, node_tree_dict)\n",
    "    node_tree_dict[k] = node(synset_name_dict[k], [node_tree_dict[term] for term in hierarchy_dict[k]])\n"
   ]
  },
  {
   "cell_type": "code",
   "execution_count": 14,
   "metadata": {
    "scrolled": true
   },
   "outputs": [
    {
     "name": "stdout",
     "output_type": "stream",
     "text": [
      "work\n",
      " work_through\n",
      "  whip_through\n",
      " muck_about\n",
      "  puddle\n",
      " carpenter\n",
      " clerk\n",
      " page\n",
      " wait\n",
      " pull_one's_weight\n",
      " electioneer\n",
      " assist\n",
      "  protect\n",
      "  abet\n",
      " beaver\n",
      " work_at\n",
      "  belabor\n",
      " keep_one's_shoulder_to_the_wheel\n",
      " occupy\n",
      "  potter\n",
      "  play_around\n",
      " collaborate\n",
      "  collaborate\n",
      "  go_along\n",
      " volunteer\n",
      " specialize\n",
      " minister\n",
      " intern\n",
      " skipper\n",
      " boondoggle\n",
      " skimp\n",
      " whore\n",
      " serve\n",
      " work\n"
     ]
    }
   ],
   "source": [
    "node_tree_dict[top_concepts[10]].display()"
   ]
  },
  {
   "cell_type": "code",
   "execution_count": 15,
   "metadata": {},
   "outputs": [],
   "source": [
    "# 下位-上位の関係にある概念の抽出\n",
    "cur = conn.execute(\"select synset1,synset2 from synlink where link='hypo'\")\n",
    "\n",
    "hierarchy_dict = {}  # key:下位語(String), value:上位語(String)\n",
    "\n",
    "for row in cur:\n",
    "    b_term = row[0]\n",
    "    n_term = row[1]\n",
    "\n",
    "    if n_term not in hierarchy_dict:\n",
    "        hierarchy_dict[n_term] = b_term"
   ]
  },
  {
   "cell_type": "code",
   "execution_count": 16,
   "metadata": {},
   "outputs": [],
   "source": [
    "# 特定の単語を入力とした時に、上位語を検索する関数\n",
    "def search_top_concept_words(word, hierarchy_dict):\n",
    "\n",
    "    # 問い合わせしたい単語がWordnetに存在するか確認する\n",
    "    cur = conn.execute(f\"select wordid from word where lemma='{word}'\")\n",
    "    word_id = 99999999  #temp \n",
    "    for row in cur:\n",
    "        word_id = row[0]\n",
    "\n",
    "    # Wordnetに存在する語であるかの判定\n",
    "    if word_id==99999999:\n",
    "        print(f\"「{word}」は、Wordnetに存在しない単語です。\")\n",
    "        return\n",
    "    else:\n",
    "        print(f\"【「{word}」の最上位概念を出力します】\\n\")\n",
    "\n",
    "    # 入力された単語を含む概念を検索する\n",
    "    cur = conn.execute(f\"select synset from sense where wordid='{word_id}'\")\n",
    "    synsets = []\n",
    "    for row in cur:\n",
    "        synsets.append(row[0])\n",
    "\n",
    "    # 概念に含まれる単語を検索して画面出力する\n",
    "    no = 1\n",
    "    for synset in synsets:\n",
    "        cur1 = conn.execute(f\"select name from synset where synset='{synset}'\")\n",
    "        for row1 in cur1:\n",
    "            print(f\"{no}つめの概念 : {row1[0]}\")\n",
    "        cur2 = conn.execute(f\"select def from synset_def where (synset='{synset}' and lang='jpn')\")\n",
    "        sub_no = 1\n",
    "        for row2 in cur2:\n",
    "            print(f\"意味{sub_no} : {row2[0]}\")\n",
    "            sub_no += 1\n",
    "\n",
    "        # 上位語の検索部分\n",
    "        b_term = \"\"\n",
    "        while(synset in hierarchy_dict.keys()):\n",
    "            synset = hierarchy_dict[synset]\n",
    "\n",
    "        cur1 = conn.execute(f\"select name from synset where synset='{synset}'\")\n",
    "        for row1 in cur1:\n",
    "            print(f\"最上位概念 : {row1[0]}\")\n",
    "\n",
    "        cur2 = conn.execute(f\"select def from synset_def where (synset='{synset}' and lang='jpn')\")\n",
    "        sub_no = 1\n",
    "        for row2 in cur2:\n",
    "            print(f\"意味{sub_no} : {row2[0]}\")\n",
    "            sub_no += 1\n",
    "\n",
    "        # 更新          \n",
    "        print(\"\\n\")\n",
    "        no += 1"
   ]
  },
  {
   "cell_type": "code",
   "execution_count": 17,
   "metadata": {
    "scrolled": true
   },
   "outputs": [
    {
     "name": "stdout",
     "output_type": "stream",
     "text": [
      "====================\n",
      "情報: こども大分新聞, 1932年, 10月, 2-y-2_01\n",
      "見出し:\n",
      "んぐみ\n",
      "| day\n",
      "三人組の隨一 ジ一堅い信念を貫いた。\n",
      "BEATION FLOR ANATUREHOU\n",
      "||||\n",
      "====================\n",
      "情報: こども大分新聞, 1932年, 10月, 2-y-2_02\n",
      "見出し:\n",
      "四戒を守って 健やか&伸びる 專科に運動に大いに養\n",
      "日田男子校の巻\n",
      "====================\n",
      "情報: こども大分新聞, 1932年, 10月, 2-y-2_03\n",
      "見出し:\n",
      "少年 少 女 講 座 メートル法の起源\n",
      "====================\n",
      "情報: こども大分新聞, 1932年, 10月, 2-y-9_01\n",
      "見出し:\n",
      "10WH\n",
      "||||||||RUNWHIEF\n",
      "電器具と 附屬品のいろく\n",
      "文明國の小國民は\n",
      "是非知って置きませう\n",
      "====================\n",
      "情報: こども大分新聞, 1932年, 10月, 2-y-9_04\n",
      "見出し:\n",
      "hateway.\n",
      "いろいろ\n",
      "電燈線の\n",
      "====================\n",
      "情報: こども大分新聞, 1932年, 10月, 2-y-4_01\n",
      "見出し:\n",
      "日本は殊に 霞が招はい それは気温を 氣壁の配置から」\n",
      "====================\n",
      "情報: こども大分新聞, 1932年, 10月, 2-a-8_01\n",
      "見出し:\n",
      "の 發 明\n",
      "====================\n",
      "情報: こども大分新聞, 1932年, 10月, 2-a-8_03\n",
      "見出し:\n",
      "でんわ\n",
      "くった\n",
      "電話機の組立\n",
      "====================\n",
      "情報: こども大分新聞, 1932年, 10月, 2-y-6_02\n",
      "見出し:\n",
      "たましひ\n",
      "1日本魂の權化\n",
      "―肉弾三勇士の少年時代―\n",
      "ゆう\n",
      "====================\n",
      "情報: こども大分新聞, 1932年, 10月, 2-y-9_02\n",
      "見出し:\n",
      "照渡自在な。 スウィッチー\n",
      "その變り種のいろく\n",
      "====================\n",
      "情報: こども大分新聞, 1932年, 10月, 1-y-2_01\n",
      "見出し:\n",
      "おとな\n",
      "・大人も及ば。\n",
      "非凡な度胸と動\n"
     ]
    }
   ],
   "source": [
    "test = []\n",
    "for num, headline in enumerate(headlines):\n",
    "    if num < 11:\n",
    "        print('==' * 10)\n",
    "        print(f'情報: {headline[0]}, {headline[1]}, {headline[2]}, {headline[3]}')\n",
    "        print(f'見出し:\\n{headline[4]}')\n",
    "        test.append(headline[4]);"
   ]
  },
  {
   "cell_type": "code",
   "execution_count": 18,
   "metadata": {},
   "outputs": [
    {
     "data": {
      "text/plain": [
       "['んぐみ\\n| day\\n三人組の隨一 ジ一堅い信念を貫いた。\\nBEATION FLOR ANATUREHOU\\n||||',\n",
       " '四戒を守って 健やか&伸びる 專科に運動に大いに養\\n日田男子校の巻',\n",
       " '少年 少 女 講 座 メートル法の起源',\n",
       " '10WH\\n||||||||RUNWHIEF\\n電器具と 附屬品のいろく\\n文明國の小國民は\\n是非知って置きませう',\n",
       " 'hateway.\\nいろいろ\\n電燈線の',\n",
       " '日本は殊に 霞が招はい それは気温を 氣壁の配置から」',\n",
       " 'の 發 明',\n",
       " 'でんわ\\nくった\\n電話機の組立',\n",
       " 'たましひ\\n1日本魂の權化\\n―肉弾三勇士の少年時代―\\nゆう',\n",
       " '照渡自在な。 スウィッチー\\nその變り種のいろく',\n",
       " 'おとな\\n・大人も及ば。\\n非凡な度胸と動']"
      ]
     },
     "execution_count": 18,
     "metadata": {},
     "output_type": "execute_result"
    }
   ],
   "source": [
    "test"
   ]
  },
  {
   "cell_type": "code",
   "execution_count": 19,
   "metadata": {},
   "outputs": [
    {
     "name": "stdout",
     "output_type": "stream",
     "text": [
      "【「ネコ」の最上位概念を出力します】\n",
      "\n",
      "1つめの概念 : true_cat\n",
      "意味1 : 通常、厚く柔らかい毛皮を持ち、吠えることのできないネコ科の哺乳類：家ネコ\n",
      "意味2 : ヤマネコ\n",
      "最上位概念 : entity\n",
      "意味1 : （生命がある、あるいは生命がないに関わらず）それ自身の明確な存在を持つと感知される、知られている、あるいは推定される何か\n",
      "\n",
      "\n"
     ]
    }
   ],
   "source": [
    "search_top_concept_words(\"ネコ\", hierarchy_dict)"
   ]
  },
  {
   "cell_type": "code",
   "execution_count": 20,
   "metadata": {},
   "outputs": [
    {
     "name": "stdout",
     "output_type": "stream",
     "text": [
      "【「月」の最上位概念を出力します】\n",
      "\n",
      "1つめの概念 : moonlight\n",
      "意味1 : 月の光\n",
      "最上位概念 : entity\n",
      "意味1 : （生命がある、あるいは生命がないに関わらず）それ自身の明確な存在を持つと感知される、知られている、あるいは推定される何か\n",
      "\n",
      "\n",
      "2つめの概念 : month\n",
      "意味1 : 暦年を12に分けた中の1つ\n",
      "最上位概念 : entity\n",
      "意味1 : （生命がある、あるいは生命がないに関わらず）それ自身の明確な存在を持つと感知される、知られている、あるいは推定される何か\n",
      "\n",
      "\n",
      "3つめの概念 : month\n",
      "意味1 : 約30日間という時間単位\n",
      "最上位概念 : entity\n",
      "意味1 : （生命がある、あるいは生命がないに関わらず）それ自身の明確な存在を持つと感知される、知られている、あるいは推定される何か\n",
      "\n",
      "\n",
      "4つめの概念 : moon\n",
      "意味1 : 地球の天然衛星\n",
      "最上位概念 : moon\n",
      "意味1 : 地球の天然衛星\n",
      "\n",
      "\n"
     ]
    }
   ],
   "source": [
    "search_top_concept_words(\"月\", hierarchy_dict)"
   ]
  },
  {
   "cell_type": "code",
   "execution_count": 21,
   "metadata": {},
   "outputs": [
    {
     "name": "stdout",
     "output_type": "stream",
     "text": [
      "「少年 少 女 講 座 メートル法の起源」は、Wordnetに存在しない単語です。\n"
     ]
    }
   ],
   "source": [
    "search_top_concept_words(test[2], hierarchy_dict)"
   ]
  },
  {
   "cell_type": "code",
   "execution_count": 22,
   "metadata": {},
   "outputs": [],
   "source": [
    "splited_word = mecab_tokenizer(test[2])"
   ]
  },
  {
   "cell_type": "code",
   "execution_count": 23,
   "metadata": {},
   "outputs": [
    {
     "data": {
      "text/plain": [
       "['少年', '女', '講', '座', 'メートル法', '起源']"
      ]
     },
     "execution_count": 23,
     "metadata": {},
     "output_type": "execute_result"
    }
   ],
   "source": [
    "splited_word"
   ]
  },
  {
   "cell_type": "code",
   "execution_count": 24,
   "metadata": {},
   "outputs": [
    {
     "name": "stdout",
     "output_type": "stream",
     "text": [
      "====================\n",
      "単語: 少年\n",
      "【「少年」の最上位概念を出力します】\n",
      "\n",
      "1つめの概念 : blighter\n",
      "意味1 : 少年または男\n",
      "最上位概念 : entity\n",
      "意味1 : （生命がある、あるいは生命がないに関わらず）それ自身の明確な存在を持つと感知される、知られている、あるいは推定される何か\n",
      "\n",
      "\n",
      "2つめの概念 : juvenile\n",
      "意味1 : 若い人\n",
      "最上位概念 : entity\n",
      "意味1 : （生命がある、あるいは生命がないに関わらず）それ自身の明確な存在を持つと感知される、知られている、あるいは推定される何か\n",
      "\n",
      "\n",
      "3つめの概念 : male_child\n",
      "意味1 : 若い男\n",
      "最上位概念 : entity\n",
      "意味1 : （生命がある、あるいは生命がないに関わらず）それ自身の明確な存在を持つと感知される、知られている、あるいは推定される何か\n",
      "\n",
      "\n",
      "4つめの概念 : cub\n",
      "意味1 : 男の子供（男の子への親しみを込めた呼びかけ語）\n",
      "最上位概念 : entity\n",
      "意味1 : （生命がある、あるいは生命がないに関わらず）それ自身の明確な存在を持つと感知される、知られている、あるいは推定される何か\n",
      "\n",
      "\n",
      "5つめの概念 : teenager\n",
      "意味1 : 思春期の入り口と成年の間にいる若者\n",
      "最上位概念 : entity\n",
      "意味1 : （生命がある、あるいは生命がないに関わらず）それ自身の明確な存在を持つと感知される、知られている、あるいは推定される何か\n",
      "\n",
      "\n",
      "====================\n",
      "単語: 女\n",
      "【「女」の最上位概念を出力します】\n",
      "\n",
      "1つめの概念 : girl\n",
      "意味1 : 親しい成人女性に対するくだけた呼びかた\n",
      "最上位概念 : entity\n",
      "意味1 : （生命がある、あるいは生命がないに関わらず）それ自身の明確な存在を持つと感知される、知られている、あるいは推定される何か\n",
      "\n",
      "\n",
      "2つめの概念 : married_woman\n",
      "意味1 : 結婚している女性\n",
      "意味2 : 結婚における男性のパートナー\n",
      "最上位概念 : entity\n",
      "意味1 : （生命がある、あるいは生命がないに関わらず）それ自身の明確な存在を持つと感知される、知られている、あるいは推定される何か\n",
      "\n",
      "\n",
      "3つめの概念 : female\n",
      "意味1 : 子供を産むことのできる性に属する人\n",
      "最上位概念 : entity\n",
      "意味1 : （生命がある、あるいは生命がないに関わらず）それ自身の明確な存在を持つと感知される、知られている、あるいは推定される何か\n",
      "\n",
      "\n",
      "4つめの概念 : adult_female\n",
      "意味1 : （成人男性に対するものとして）女性である大人\n",
      "最上位概念 : entity\n",
      "意味1 : （生命がある、あるいは生命がないに関わらず）それ自身の明確な存在を持つと感知される、知られている、あるいは推定される何か\n",
      "\n",
      "\n",
      "5つめの概念 : kept_woman\n",
      "意味1 : 不貞の女性\n",
      "意味2 : 男性との婚外性交渉を継続して持つ女性\n",
      "最上位概念 : entity\n",
      "意味1 : （生命がある、あるいは生命がないに関わらず）それ自身の明確な存在を持つと感知される、知られている、あるいは推定される何か\n",
      "\n",
      "\n",
      "====================\n",
      "単語: 講\n",
      "「講」は、Wordnetに存在しない単語です。\n",
      "====================\n",
      "単語: 座\n",
      "【「座」の最上位概念を出力します】\n",
      "\n",
      "1つめの概念 : stand\n",
      "意味1 : 色々な物を乗せておく小さなテーブル\n",
      "最上位概念 : entity\n",
      "意味1 : （生命がある、あるいは生命がないに関わらず）それ自身の明確な存在を持つと感知される、知られている、あるいは推定される何か\n",
      "\n",
      "\n",
      "2つめの概念 : seat\n",
      "意味1 : （劇場、電車、飛行機などで）座るために確保された場所\n",
      "最上位概念 : entity\n",
      "意味1 : （生命がある、あるいは生命がないに関わらず）それ自身の明確な存在を持つと感知される、知られている、あるいは推定される何か\n",
      "\n",
      "\n",
      "====================\n",
      "単語: メートル法\n",
      "【「メートル法」の最上位概念を出力します】\n",
      "\n",
      "1つめの概念 : metric_system\n",
      "意味1 : メートルとキログラムと秒に基づく度量衡の十進法\n",
      "最上位概念 : entity\n",
      "意味1 : （生命がある、あるいは生命がないに関わらず）それ自身の明確な存在を持つと感知される、知られている、あるいは推定される何か\n",
      "\n",
      "\n",
      "====================\n",
      "単語: 起源\n",
      "【「起源」の最上位概念を出力します】\n",
      "\n",
      "1つめの概念 : beginning\n",
      "意味1 : 何かの初めの部分の出来事\n",
      "最上位概念 : entity\n",
      "意味1 : （生命がある、あるいは生命がないに関わらず）それ自身の明確な存在を持つと感知される、知られている、あるいは推定される何か\n",
      "\n",
      "\n",
      "2つめの概念 : ancestry\n",
      "意味1 : 同じ血統の他の人たちと共有する、遺伝的に受け継がれた特性\n",
      "最上位概念 : entity\n",
      "意味1 : （生命がある、あるいは生命がないに関わらず）それ自身の明確な存在を持つと感知される、知られている、あるいは推定される何か\n",
      "\n",
      "\n",
      "3つめの概念 : origin\n",
      "意味1 : 何かの存在の源、またはそれの由来をたどる、あるいは由来するもの\n",
      "最上位概念 : entity\n",
      "意味1 : （生命がある、あるいは生命がないに関わらず）それ自身の明確な存在を持つと感知される、知られている、あるいは推定される何か\n",
      "\n",
      "\n",
      "4つめの概念 : beginning\n",
      "意味1 : 何かが生まれて、始まる場所\n",
      "最上位概念 : entity\n",
      "意味1 : （生命がある、あるいは生命がないに関わらず）それ自身の明確な存在を持つと感知される、知られている、あるいは推定される何か\n",
      "\n",
      "\n"
     ]
    }
   ],
   "source": [
    "for word in splited_word:\n",
    "    print('==' * 10)\n",
    "    print(f'単語: {word}')\n",
    "    search_top_concept_words(word, hierarchy_dict)"
   ]
  },
  {
   "cell_type": "code",
   "execution_count": 25,
   "metadata": {},
   "outputs": [
    {
     "data": {
      "text/plain": [
       "11285632"
      ]
     },
     "execution_count": 25,
     "metadata": {},
     "output_type": "execute_result"
    }
   ],
   "source": [
    "# 新聞見出しのリストの容量\n",
    "headlines.__sizeof__()\n",
    "# 11285632 -> 1.12GB"
   ]
  },
  {
   "cell_type": "code",
   "execution_count": null,
   "metadata": {},
   "outputs": [],
   "source": []
  }
 ],
 "metadata": {
  "kernelspec": {
   "display_name": "Python 3 (ipykernel)",
   "language": "python",
   "name": "python3"
  },
  "language_info": {
   "codemirror_mode": {
    "name": "ipython",
    "version": 3
   },
   "file_extension": ".py",
   "mimetype": "text/x-python",
   "name": "python",
   "nbconvert_exporter": "python",
   "pygments_lexer": "ipython3",
   "version": "3.7.11"
  }
 },
 "nbformat": 4,
 "nbformat_minor": 4
}
