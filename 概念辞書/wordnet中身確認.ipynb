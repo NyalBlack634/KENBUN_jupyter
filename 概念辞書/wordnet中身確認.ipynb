{
 "cells": [
  {
   "cell_type": "code",
   "execution_count": 1,
   "metadata": {},
   "outputs": [],
   "source": [
    "import sqlite3\n",
    "conn = sqlite3.connect(\"wnjpn.db\")"
   ]
  },
  {
   "cell_type": "code",
   "execution_count": 2,
   "metadata": {},
   "outputs": [],
   "source": [
    "sql = \"SELECT name FROM sqlite_master WHERE TYPE='table'\"\n",
    "cur = conn.cursor()"
   ]
  },
  {
   "cell_type": "code",
   "execution_count": 3,
   "metadata": {
    "scrolled": true
   },
   "outputs": [],
   "source": [
    "for table in cur.execute(sql):\n",
    "    print(table)"
   ]
  },
  {
   "cell_type": "markdown",
   "metadata": {},
   "source": [
    "### テーブル情報\n",
    "word: 単語と品詞に関する情報。単語と単語IDを紐づけている<br>\n",
    "sense: 単語とsynset（概念）に関する情報。単語IDとsynsetのIDを紐づけている<br>\n",
    "synset: 概念に関する情報。synsetのIDと概念名称を紐づけている<br>\n",
    "synset_def: 概念の定義に関する情報。synsetのIDと概念の定義を紐づけている<br>\n",
    "synling: 2つの概念の関連性の情報。上位・下位、包含・被包含などが定義されている<br>\n",
    "参考情報: https://note.com/npaka/n/nd784cc6e4aa6"
   ]
  },
  {
   "cell_type": "code",
   "execution_count": 4,
   "metadata": {
    "scrolled": true
   },
   "outputs": [],
   "source": [
    "cur.execute('SELECT * FROM synset')"
   ]
  },
  {
   "cell_type": "code",
   "execution_count": 5,
   "metadata": {},
   "outputs": [],
   "source": [
    "for num, row in enumerate(cur):\n",
    "    if num < 10:\n",
    "        print(row)"
   ]
  },
  {
   "cell_type": "code",
   "execution_count": 6,
   "metadata": {},
   "outputs": [
    {
     "name": "stdout",
     "output_type": "stream",
     "text": [
      "('a', 'eng', 'adjective')\n",
      "('r', 'eng', 'adverb')\n",
      "('n', 'eng', 'noun')\n",
      "('v', 'eng', 'verb')\n",
      "('a', 'jpn', '形容詞')\n",
      "('r', 'jpn', '副詞')\n",
      "('n', 'jpn', '名詞')\n",
      "('v', 'jpn', '動詞')\n"
     ]
    }
   ],
   "source": [
    "cur.execute('SELECT * FROM pos_def')\n",
    "for num, row in enumerate(cur):\n",
    "    if num < 20:\n",
    "        print(row)"
   ]
  },
  {
   "cell_type": "code",
   "execution_count": 7,
   "metadata": {
    "scrolled": false
   },
   "outputs": [
    {
     "name": "stdout",
     "output_type": "stream",
     "text": [
      "('also', 'eng', 'See also')\n",
      "('syns', 'eng', 'Synonyms')\n",
      "('hype', 'eng', 'Hypernyms')\n",
      "('inst', 'eng', 'Instances')\n",
      "('hypo', 'eng', 'Hyponym')\n",
      "('hasi', 'eng', 'Has Instance')\n",
      "('mero', 'eng', 'Meronyms')\n",
      "('mmem', 'eng', 'Meronyms --- Member')\n",
      "('msub', 'eng', 'Meronyms --- Substance')\n",
      "('mprt', 'eng', 'Meronyms --- Part')\n",
      "('holo', 'eng', 'Holonyms')\n",
      "('hmem', 'eng', 'Holonyms --- Member')\n",
      "('hsub', 'eng', 'Holonyms --- Substance')\n",
      "('hprt', 'eng', 'Holonyms -- Part')\n",
      "('attr', 'eng', 'Attributes')\n",
      "('sim', 'eng', 'Similar to')\n",
      "('enta', 'eng', 'Entails')\n",
      "('caus', 'eng', 'Causes')\n",
      "('dmnc', 'eng', 'Domain --- Category')\n",
      "('dmnu', 'eng', 'Domain --- Usage')\n"
     ]
    }
   ],
   "source": [
    "cur.execute('SELECT * FROM link_def')\n",
    "for num, row in enumerate(cur):\n",
    "    if num < 20:\n",
    "        print(row)"
   ]
  },
  {
   "cell_type": "code",
   "execution_count": 8,
   "metadata": {
    "scrolled": true
   },
   "outputs": [
    {
     "name": "stdout",
     "output_type": "stream",
     "text": [
      "('07125096-n', 'eng', 'profane or obscene expression usually of surprise or anger; \"expletives were deleted\"', '0')\n",
      "('07126228-n', 'eng', 'a word or phrase conveying no independent meaning but added to fill out a sentence or metrical line', '0')\n",
      "('14123044-n', 'eng', 'an acute and highly contagious viral disease marked by distinct red spots followed by a rash; occurs primarily in children', '0')\n",
      "('08030185-n', 'eng', 'a Nicaraguan counterrevolutionary guerrilla force from 1979 to 1990; it opposed a left-wing government, with support from the United States', '0')\n",
      "('09902017-n', 'eng', 'a man who raises (or tends) cattle', '0')\n",
      "('03259505-n', 'eng', 'housing that someone is living in; \"he built a modest dwelling near the pond\"; \"they raise money to provide homes for the homeless\"', '0')\n",
      "('14599641-n', 'eng', 'a dilute solution of acetic acid that is used as a solvent (e.g. for a drug)', '0')\n",
      "('07828987-n', 'eng', 'sour-tasting liquid produced usually by oxidation of the alcohol in wine or cider and used as a condiment or food preservative', '0')\n",
      "('09361816-n', 'eng', 'a mountain range in northwestern Israel near the Mediterranean coast; \"according to the Old Testament, Elijah defeated the priests of Baal at Mount Carmel\"', '0')\n",
      "('11660537-n', 'eng', 'yews: in some systems classified as a class (Taxopsida) and in others as a subdivision (Taxophytina) used in some classifications for one of five subdivisions of Gymnospermophyta', '0')\n",
      "('13098515-n', 'eng', 'a sheet of vascular tissue separating the vascular bundles', '0')\n",
      "('01629093-n', 'eng', 'type genus of the Salamandridae', '0')\n",
      "('05559256-n', 'eng', 'the fleshy part of the human body that you sit on; \"he deserves a good kick in the butt\"; \"are you going to sit on your fanny and do nothing?\"', '0')\n",
      "('15024773-n', 'eng', 'the bright red hemoglobin that is a combination of hemoglobin and oxygen from the lungs; \"oxyhemoglobin transports oxygen to the cells of the body\"', '0')\n",
      "('02523750-n', 'eng', 'haddock', '0')\n",
      "('08983105-n', 'eng', 'the capital and largest city of Poland; located in central Poland', '0')\n",
      "('09067277-n', 'eng', 'a state in west central United States in the Rocky Mountains', '0')\n",
      "('09250016-n', 'eng', 'a river in Texas; flows southeast into the Gulf of Mexico', '0')\n",
      "('09249418-n', 'eng', 'an important river in the southwestern United States; rises in the Rocky Mountains of northern Colorado and flows southwest through Utah into Arizona (where it flows through the Grand Canyon) and then southward through the southern tip of Nevada, then forming the border between California and Arizona and finally into Mexico where it empties into the Gulf of California; the main source of water in the southwestern United States', '0')\n",
      "('04420461-n', 'eng', 'a bomb that uses a fuel-air explosive; \"a thermobaric bomb can create overpressures equal to an atomic bomb\"', '0')\n"
     ]
    }
   ],
   "source": [
    "cur.execute('SELECT * FROM synset_def')\n",
    "for num, row in enumerate(cur):\n",
    "    if num < 20:\n",
    "        print(row)"
   ]
  },
  {
   "cell_type": "code",
   "execution_count": 9,
   "metadata": {
    "scrolled": true
   },
   "outputs": [
    {
     "name": "stdout",
     "output_type": "stream",
     "text": [
      "('01785341-a', 'eng', 'grim determination', '0')\n",
      "('01785341-a', 'jpn', '断固たる決心', '0')\n",
      "('01785341-a', 'eng', 'grim necessity', '1')\n",
      "('01785341-a', 'jpn', '厳しい必要性', '1')\n",
      "('01785341-a', 'eng', \"Russia's final hour, it seemed, approached with inexorable certainty\", '2')\n",
      "('01785341-a', 'jpn', 'ロシアの最後の時間は、容赦ない確実性とともに訪れたようであった', '2')\n",
      "('01785341-a', 'eng', 'relentless persecution', '3')\n",
      "('01785341-a', 'jpn', '容赦のない迫害', '3')\n",
      "('01785341-a', 'eng', 'the stern demands of parenthood', '4')\n",
      "('01785341-a', 'jpn', '親の立場の厳格な要求', '4')\n",
      "('00102786-a', 'eng', 'double-edged praise', '0')\n",
      "('00102786-a', 'jpn', '両意に取れる賞賛', '0')\n",
      "('00307333-r', 'eng', 'he smelled offensively unwashed', '0')\n",
      "('00307333-r', 'jpn', '彼は不快なほど不潔な匂いがした', '0')\n",
      "('00156222-r', 'eng', \"incidentally, I won't go to the party\", '0')\n",
      "('00156222-r', 'jpn', 'ちなみに、私はパーティーに行かない', '0')\n",
      "('07316856-n', 'eng', 'he finally got his big break', '0')\n",
      "('07316856-n', 'jpn', '彼はとうとう大きなチャンスをつかんだ', '0')\n",
      "('00433514-r', 'eng', 'the afternoon had begun so promisingly', '0')\n",
      "('00433514-r', 'jpn', '午後は、とても前途有望に始まった', '0')\n"
     ]
    }
   ],
   "source": [
    "cur.execute('SELECT * FROM synset_ex')\n",
    "for num, row in enumerate(cur):\n",
    "    if num < 20:\n",
    "        print(row)"
   ]
  },
  {
   "cell_type": "code",
   "execution_count": 10,
   "metadata": {
    "scrolled": false
   },
   "outputs": [
    {
     "name": "stdout",
     "output_type": "stream",
     "text": [
      "('07125096-n', '07128527-n', 'hype', 'eng30')\n",
      "('07126228-n', '07109847-n', 'hype', 'eng30')\n",
      "('14123044-n', '14122235-n', 'hype', 'eng30')\n",
      "('14123044-n', '14123259-n', 'hypo', 'eng30')\n",
      "('08030185-n', '08197895-n', 'inst', 'eng30')\n",
      "('09902017-n', '10658501-n', 'hype', 'eng30')\n",
      "('03259505-n', '03546340-n', 'hype', 'eng30')\n",
      "('03259505-n', '03042490-n', 'hypo', 'eng30')\n",
      "('03259505-n', '03088580-n', 'hypo', 'eng30')\n",
      "('03259505-n', '03354207-n', 'hypo', 'eng30')\n",
      "('03259505-n', '03507241-n', 'hypo', 'eng30')\n",
      "('03259505-n', '03515934-n', 'hypo', 'eng30')\n",
      "('03259505-n', '03529629-n', 'hypo', 'eng30')\n",
      "('03259505-n', '03544360-n', 'hypo', 'eng30')\n",
      "('03259505-n', '03634034-n', 'hypo', 'eng30')\n",
      "('03259505-n', '03685307-n', 'hypo', 'eng30')\n",
      "('03259505-n', '03751590-n', 'hypo', 'eng30')\n",
      "('03259505-n', '04172107-n', 'hypo', 'eng30')\n",
      "('03259505-n', '04517408-n', 'hypo', 'eng30')\n",
      "('03259505-n', '04613696-n', 'hypo', 'eng30')\n"
     ]
    }
   ],
   "source": [
    "cur.execute('SELECT * FROM synlink')\n",
    "for num, row in enumerate(cur):\n",
    "    if num < 20:\n",
    "        print(row)"
   ]
  },
  {
   "cell_type": "code",
   "execution_count": 11,
   "metadata": {
    "scrolled": true
   },
   "outputs": [
    {
     "name": "stdout",
     "output_type": "stream",
     "text": [
      "('11820323-n', '11573660-n', 1)\n",
      "('11820323-n', '11567411-n', 2)\n",
      "('11820323-n', '08108972-n', 3)\n",
      "('11820323-n', '07992450-n', 4)\n",
      "('11820323-n', '07941170-n', 5)\n",
      "('11820323-n', '00031264-n', 6)\n",
      "('11820323-n', '00002137-n', 7)\n",
      "('11820323-n', '00001740-n', 8)\n",
      "('04239436-n', '02785648-n', 1)\n",
      "('04239436-n', '03237639-n', 2)\n",
      "('04239436-n', '03050026-n', 3)\n",
      "('04239436-n', '03122748-n', 4)\n",
      "('04239436-n', '00021939-n', 5)\n",
      "('04239436-n', '00003553-n', 6)\n",
      "('04239436-n', '00002684-n', 7)\n",
      "('04239436-n', '00001930-n', 8)\n",
      "('04239436-n', '00001740-n', 9)\n",
      "('11427067-n', '11463371-n', 1)\n",
      "('11427067-n', '11473954-n', 2)\n",
      "('11427067-n', '11421401-n', 3)\n"
     ]
    }
   ],
   "source": [
    "cur.execute('SELECT * FROM ancestor')\n",
    "for num, row in enumerate(cur):\n",
    "    if num < 20:\n",
    "        print(row)"
   ]
  },
  {
   "cell_type": "code",
   "execution_count": 12,
   "metadata": {},
   "outputs": [
    {
     "name": "stdout",
     "output_type": "stream",
     "text": [
      "('07125096-n', 1, 'eng', '0', 1, 1, 'eng-30')\n",
      "('07126228-n', 1, 'eng', '0', 2, 0, 'eng-30')\n",
      "('14123044-n', 2, 'eng', '0', 1, 0, 'eng-30')\n",
      "('08030185-n', 3, 'eng', '0', 1, 0, 'eng-30')\n",
      "('09902017-n', 4, 'eng', '0', 1, 1, 'eng-30')\n",
      "('03259505-n', 5, 'eng', '0', 1, 11, 'eng-30')\n",
      "('14599641-n', 6, 'eng', '0', 1, 0, 'eng-30')\n",
      "('07828987-n', 6, 'eng', '0', 2, 0, 'eng-30')\n",
      "('09361816-n', 7, 'eng', '0', 1, 0, 'eng-30')\n",
      "('11660537-n', 8, 'eng', '0', 1, 0, 'eng-30')\n",
      "('13098515-n', 9, 'eng', '0', 1, 0, 'eng-30')\n",
      "('01629093-n', 10, 'eng', '0', 1, 0, 'eng-30')\n",
      "('05559256-n', 11, 'eng', '0', 1, 0, 'eng-30')\n",
      "('15024773-n', 12, 'eng', '0', 1, 0, 'eng-30')\n",
      "('02523750-n', 13, 'eng', '0', 1, 0, 'eng-30')\n",
      "('08983105-n', 14, 'eng', '0', 1, 8, 'eng-30')\n",
      "('09067277-n', 15, 'eng', '0', 1, 2, 'eng-30')\n",
      "('09250016-n', 15, 'eng', '0', 2, 0, 'eng-30')\n",
      "('09249418-n', 15, 'eng', '0', 3, 0, 'eng-30')\n",
      "('04420461-n', 16, 'eng', '0', 1, 0, 'eng-30')\n"
     ]
    }
   ],
   "source": [
    "cur.execute('SELECT * FROM sense')\n",
    "for num, row in enumerate(cur):\n",
    "    if num < 20:\n",
    "        print(row)"
   ]
  },
  {
   "cell_type": "code",
   "execution_count": 13,
   "metadata": {},
   "outputs": [
    {
     "name": "stdout",
     "output_type": "stream",
     "text": [
      "(1, 'eng', 'expletive', None, 'n')\n",
      "(2, 'eng', 'measles', None, 'n')\n",
      "(3, 'eng', 'contras', None, 'n')\n",
      "(4, 'eng', 'beef_man', None, 'n')\n",
      "(5, 'eng', 'dwelling', None, 'n')\n",
      "(6, 'eng', 'acetum', None, 'n')\n",
      "(7, 'eng', 'mount_carmel', None, 'n')\n",
      "(8, 'eng', 'class_taxopsida', None, 'n')\n",
      "(9, 'eng', 'vascular_ray', None, 'n')\n",
      "(10, 'eng', 'genus_salamandra', None, 'n')\n",
      "(11, 'eng', 'prat', None, 'n')\n",
      "(12, 'eng', 'oxyhaemoglobin', None, 'n')\n",
      "(13, 'eng', 'genus_melanogrammus', None, 'n')\n",
      "(14, 'eng', 'warsaw', None, 'n')\n",
      "(15, 'eng', 'colorado', None, 'n')\n",
      "(16, 'eng', 'fuel-air_bomb', None, 'n')\n",
      "(17, 'eng', 'industrial_engineering', None, 'n')\n",
      "(18, 'eng', 'atomic_weapon', None, 'n')\n",
      "(19, 'eng', 'apnea', None, 'n')\n",
      "(20, 'eng', 'maxillary', None, 'n')\n"
     ]
    }
   ],
   "source": [
    "cur.execute('SELECT * FROM word')\n",
    "for num, row in enumerate(cur):\n",
    "    if num < 20:\n",
    "        print(row)"
   ]
  },
  {
   "cell_type": "code",
   "execution_count": 14,
   "metadata": {},
   "outputs": [],
   "source": [
    "cur.execute('SELECT * FROM variant')\n",
    "for num, row in enumerate(cur):\n",
    "    if num < 20:\n",
    "        print(row)"
   ]
  },
  {
   "cell_type": "code",
   "execution_count": 15,
   "metadata": {},
   "outputs": [
    {
     "name": "stdout",
     "output_type": "stream",
     "text": [
      "('00001740-a', 'sumo', 'capability', '=', None)\n",
      "('00002098-a', 'sumo', 'capability', '⊂', None)\n",
      "('00002312-a', 'sumo', 'PositionalAttribute', '⊂', None)\n",
      "('00002527-a', 'sumo', 'PositionalAttribute', '⊂', None)\n",
      "('00002956-a', 'sumo', 'BiologicalAttribute', '⊂', None)\n",
      "('00003131-a', 'sumo', 'BiologicalAttribute', '⊂', None)\n",
      "('00003356-a', 'sumo', 'BeginFn', '⊂', None)\n",
      "('00004413-a', 'sumo', 'Summary', '=', None)\n",
      "('00004980-a', 'sumo', 'Text', '⊂', None)\n",
      "('00005205-a', 'sumo', 'SubjectiveAssessmentAttribute', '⊂', None)\n",
      "('00006032-a', 'sumo', 'SubjectiveAssessmentAttribute', '⊂', None)\n",
      "('00006336-a', 'sumo', 'capability', '⊂', None)\n",
      "('00007813-a', 'sumo', 'capability', '⊂', None)\n",
      "('00008206-a', 'sumo', 'capability', '⊂', None)\n",
      "('00008595-a', 'sumo', 'capability', '⊂', None)\n",
      "('00008734-a', 'sumo', 'capability', '⊂', None)\n",
      "('00008877-a', 'sumo', 'capability', '⊂', None)\n",
      "('00009046-a', 'sumo', 'SubjectiveAssessmentAttribute', '⊂', None)\n",
      "('00009978-a', 'sumo', 'SubjectiveAssessmentAttribute', '⊂', None)\n",
      "('00011757-a', 'sumo', 'Abstract', '=', None)\n"
     ]
    }
   ],
   "source": [
    "cur.execute('SELECT * FROM xlink')\n",
    "for num, row in enumerate(cur):\n",
    "    if num < 20:\n",
    "        print(row)"
   ]
  },
  {
   "cell_type": "code",
   "execution_count": null,
   "metadata": {},
   "outputs": [],
   "source": []
  }
 ],
 "metadata": {
  "kernelspec": {
   "display_name": "Python 3",
   "language": "python",
   "name": "python3"
  },
  "language_info": {
   "codemirror_mode": {
    "name": "ipython",
    "version": 3
   },
   "file_extension": ".py",
   "mimetype": "text/x-python",
   "name": "python",
   "nbconvert_exporter": "python",
   "pygments_lexer": "ipython3",
   "version": "3.7.9"
  }
 },
 "nbformat": 4,
 "nbformat_minor": 4
}
