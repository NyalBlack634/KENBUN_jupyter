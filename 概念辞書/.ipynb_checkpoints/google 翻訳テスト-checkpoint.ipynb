{
 "cells": [
  {
   "cell_type": "code",
   "execution_count": 1,
   "id": "e9538f29",
   "metadata": {},
   "outputs": [],
   "source": [
    "from googletrans import Translator"
   ]
  },
  {
   "cell_type": "code",
   "execution_count": 2,
   "id": "7c8e4992",
   "metadata": {},
   "outputs": [],
   "source": [
    "translator = Translator()"
   ]
  },
  {
   "cell_type": "code",
   "execution_count": 4,
   "id": "104202c9",
   "metadata": {},
   "outputs": [],
   "source": [
    "translated = translator.translate('test', src='en', dest='ja')"
   ]
  },
  {
   "cell_type": "markdown",
   "id": "3270f5a8",
   "metadata": {},
   "source": [
    "## Google翻訳APIのエラー対処\n",
    "以下のサイトを参考<br>\n",
    "最新のアルファ版を使うと安定<br>\n",
    "https://qiita.com/_yushuu/items/83c51e29771530646659"
   ]
  },
  {
   "cell_type": "code",
   "execution_count": 5,
   "id": "f4b56698",
   "metadata": {},
   "outputs": [
    {
     "data": {
      "text/plain": [
       "'テスト'"
      ]
     },
     "execution_count": 5,
     "metadata": {},
     "output_type": "execute_result"
    }
   ],
   "source": [
    "translated.text"
   ]
  }
 ],
 "metadata": {
  "kernelspec": {
   "display_name": "Python 3 (ipykernel)",
   "language": "python",
   "name": "python3"
  },
  "language_info": {
   "codemirror_mode": {
    "name": "ipython",
    "version": 3
   },
   "file_extension": ".py",
   "mimetype": "text/x-python",
   "name": "python",
   "nbconvert_exporter": "python",
   "pygments_lexer": "ipython3",
   "version": "3.7.11"
  }
 },
 "nbformat": 4,
 "nbformat_minor": 5
}
