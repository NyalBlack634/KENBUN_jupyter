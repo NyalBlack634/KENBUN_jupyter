{
 "cells": [
  {
   "cell_type": "markdown",
   "metadata": {},
   "source": [
    "# 日本語wordnet\n",
    "参考サイト<br>\n",
    "https://qiita.com/pocket_kyoto/items/f2382b9821d32624e6bc<br>\n",
    "https://github.com/EmulsionBondo/jwordnet/blob/master/SearchUpperConceptWords.py"
   ]
  },
  {
   "cell_type": "code",
   "execution_count": 1,
   "metadata": {},
   "outputs": [],
   "source": [
    "import sqlite3\n",
    "import sys\n",
    "conn = sqlite3.connect(\"wnjpn.db\")"
   ]
  },
  {
   "cell_type": "code",
   "execution_count": 2,
   "metadata": {},
   "outputs": [],
   "source": [
    "# 上位-下位の関係にある概念の抽出\n",
    "hierarchy_dict = {}  # key:上位語(String), value:下位語(List of String)\n",
    "n_term_set = set()  # 下位語に含まれる単語集合"
   ]
  },
  {
   "cell_type": "code",
   "execution_count": 3,
   "metadata": {},
   "outputs": [],
   "source": [
    "class node:\n",
    "    def __init__(self, name, children=None):\n",
    "        self.name = name  # String\n",
    "        self.children = children  # List of Class node\n",
    "\n",
    "    # 結果表示用\n",
    "    def display(self, indent = 0):\n",
    "        if self.children != None:\n",
    "            print(' '*indent + self.name)\n",
    "            for c in self.children:\n",
    "                c.display(indent+1)\n",
    "        else:\n",
    "            print(' '*indent + self.name)"
   ]
  },
  {
   "cell_type": "code",
   "execution_count": 4,
   "metadata": {},
   "outputs": [],
   "source": [
    "def search_upper_concept_words(word, hierarchy_dict):\n",
    "    \"\"\"\n",
    "    特定の単語を入力とした時に、上位語を検索する関数\n",
    "    :param word: 検索する単語\n",
    "    :param hierarchy_dict: 上位語\n",
    "    \"\"\"\n",
    "    cur = conn.execute(f\"select wordid from word where lemma='{word}'\")\n",
    "    word_id = 99999999  #temp\n",
    "    for row in cur:\n",
    "        word_id = row[0]\n",
    "    \n",
    "    if word_id == 99999999: # Wordnetに存在する語であるかの判定\n",
    "        print(f'「{word}」は存在しない単語です。')\n",
    "    else:\n",
    "        print(f'「{word}」の上位概念を出力します。')\n",
    "    \n",
    "    # 入力された単語を含む概念を検索\n",
    "    cur = conn.execute(f\"select synset from sense where wordid='{word_id}'\")\n",
    "    synsets = []\n",
    "    for row in cur:\n",
    "        synsets.append(row[0])\n",
    "    \n",
    "    for synset in synsets:\n",
    "        # 上位語を取得する対象のsynsetを表示\n",
    "        print(f'------------------{synset_name_dict[synset]}---------------------')\n",
    "        #現在のsynsetの上位語をすべて取得するため，tmp_synsetに代入\n",
    "        tmp_synset=synset\n",
    "        # synsetの上位語を最上位まで列挙\n",
    "        while(tmp_synset in hierarchy_dict.values()):\n",
    "            # エラーが発生=最上位を取得したら終了\n",
    "            try:\n",
    "                print(synset_name_dict[hierarchy_dict[tmp_synset]])\n",
    "                tmp_synset = hierarchy_dict[tmp_synset]\n",
    "            except:\n",
    "                break"
   ]
  },
  {
   "cell_type": "code",
   "execution_count": 5,
   "metadata": {},
   "outputs": [],
   "source": [
    "# 下位-上位の関係にある概念の抽出\n",
    "cur = conn.execute(\"select synset1,synset2 from synlink where link='hypo'\")"
   ]
  },
  {
   "cell_type": "code",
   "execution_count": 6,
   "metadata": {},
   "outputs": [],
   "source": [
    "hierarchy_dict = {}  # key:下位語(String), value:上位語(String)"
   ]
  },
  {
   "cell_type": "code",
   "execution_count": 7,
   "metadata": {},
   "outputs": [],
   "source": [
    "for row in cur:\n",
    "    b_term = row[0] # 下位概念のID\n",
    "    n_term = row[1] # 上位概念のID\n",
    "    \n",
    "    if n_term not in hierarchy_dict:\n",
    "        hierarchy_dict[n_term] = b_term"
   ]
  },
  {
   "cell_type": "code",
   "execution_count": 8,
   "metadata": {},
   "outputs": [],
   "source": [
    "# synset(概念)のIDから、概念の名称に変換する辞書の作成\n",
    "synset_name_dict = {}  # key:synsetのID, value:synsetの名称\n",
    "cur = conn.execute(\"select synset,name from synset\")"
   ]
  },
  {
   "cell_type": "code",
   "execution_count": 9,
   "metadata": {},
   "outputs": [],
   "source": [
    "for row in cur:\n",
    "    synset_name_dict[row[0]] = row[1]"
   ]
  },
  {
   "cell_type": "code",
   "execution_count": 10,
   "metadata": {},
   "outputs": [
    {
     "name": "stdout",
     "output_type": "stream",
     "text": [
      "「猫」の上位概念を出力します。\n",
      "------------------true_cat---------------------\n",
      "feline\n",
      "carnivore\n",
      "placental\n",
      "mammalian\n",
      "vertebrate\n",
      "chordate\n",
      "animate_being\n",
      "being\n",
      "living_thing\n",
      "whole\n",
      "physical_object\n",
      "physical_entity\n",
      "entity\n"
     ]
    }
   ],
   "source": [
    "search_upper_concept_words('猫', hierarchy_dict)"
   ]
  },
  {
   "cell_type": "code",
   "execution_count": 16,
   "metadata": {},
   "outputs": [
    {
     "data": {
      "text/plain": [
       "5242952"
      ]
     },
     "execution_count": 16,
     "metadata": {},
     "output_type": "execute_result"
    }
   ],
   "source": [
    "hierarchy_dict.__sizeof__()"
   ]
  },
  {
   "cell_type": "code",
   "execution_count": 13,
   "metadata": {},
   "outputs": [],
   "source": [
    "test = '顛落'"
   ]
  },
  {
   "cell_type": "code",
   "execution_count": 14,
   "metadata": {},
   "outputs": [
    {
     "name": "stdout",
     "output_type": "stream",
     "text": [
      "「顛落」の上位概念を出力します。\n",
      "------------------fall---------------------\n"
     ]
    }
   ],
   "source": [
    "search_upper_concept_words(test, hierarchy_dict)"
   ]
  }
 ],
 "metadata": {
  "kernelspec": {
   "display_name": "Python 3 (ipykernel)",
   "language": "python",
   "name": "python3"
  },
  "language_info": {
   "codemirror_mode": {
    "name": "ipython",
    "version": 3
   },
   "file_extension": ".py",
   "mimetype": "text/x-python",
   "name": "python",
   "nbconvert_exporter": "python",
   "pygments_lexer": "ipython3",
   "version": "3.7.11"
  }
 },
 "nbformat": 4,
 "nbformat_minor": 4
}
